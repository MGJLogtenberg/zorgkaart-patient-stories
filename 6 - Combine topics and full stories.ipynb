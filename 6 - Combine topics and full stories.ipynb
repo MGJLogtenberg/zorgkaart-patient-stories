{
 "cells": [
  {
   "cell_type": "code",
   "execution_count": 16,
   "id": "900be71b",
   "metadata": {},
   "outputs": [],
   "source": [
    "#Import packages\n",
    "import pandas as pd\n",
    "import os\n",
    "import numpy as np\n",
    "\n",
    "#Import & merge\n",
    "df1 = pd.read_excel(\"final_df.xlsx\",index_col=0) #Import stories\n",
    "os.chdir(\"C:\\\\Users\\\\mlogt\\\\Dropbox\\\\Health Humanities\\\\Thesis\\\\Results SQ1\") #Change working directory\n",
    "df2 = pd.read_excel(\"probs.xlsx\",index_col=0) #Import topics\n",
    "df = pd.merge(df2,df1[['key_0','review']],on='key_0') #Merge together on key (URL) to new DataFrame\n",
    "df.to_excel(\"probs2.xlsx\") #Export\n",
    "os.chdir(\"C:\\\\Users\\\\mlogt\\\\Dropbox\\\\Health Humanities\\\\Thesis\\\\Code\") #Change working directory to default"
   ]
  },
  {
   "cell_type": "code",
   "execution_count": 11,
   "id": "1e498011",
   "metadata": {},
   "outputs": [
    {
     "name": "stdout",
     "output_type": "stream",
     "text": [
      "Topic 1 - average length story: 349.1854098615648\n",
      "Topic 2 - average length story: 281.88313725490195\n",
      "Topic 3 - average length story: 174.29176648594125\n",
      "Topic 4 - average length story: 372.7852844328375\n",
      "Topic 5 - average length story: 247.06120198492926\n",
      "Topic 6 - average length story: 147.16889765141295\n"
     ]
    }
   ],
   "source": [
    "for topic in range(1,7):\n",
    "    l = []\n",
    "    for i in df[df['topic']==topic]['review_y']:\n",
    "        l.append(len(i)-6)\n",
    "    print(\"Topic {} - average length story: {}\".format(topic,np.mean(l)))"
   ]
  }
 ],
 "metadata": {
  "kernelspec": {
   "display_name": "Python 3",
   "language": "python",
   "name": "python3"
  },
  "language_info": {
   "codemirror_mode": {
    "name": "ipython",
    "version": 3
   },
   "file_extension": ".py",
   "mimetype": "text/x-python",
   "name": "python",
   "nbconvert_exporter": "python",
   "pygments_lexer": "ipython3",
   "version": "3.8.8"
  }
 },
 "nbformat": 4,
 "nbformat_minor": 5
}
