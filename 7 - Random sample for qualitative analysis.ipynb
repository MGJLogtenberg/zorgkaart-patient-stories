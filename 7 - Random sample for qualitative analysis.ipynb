{
 "cells": [
  {
   "cell_type": "code",
   "execution_count": 1,
   "id": "5e2808a9",
   "metadata": {},
   "outputs": [],
   "source": [
    "#Import packages\n",
    "import pandas as pd\n",
    "import os\n",
    "import numpy as np\n",
    "\n",
    "#Import dataset\n",
    "os.chdir(\"C:\\\\Users\\\\mlogt\\\\Dropbox\\\\Health Humanities\\\\Thesis\\\\Results SQ1\") #Change working directory\n",
    "df = pd.read_excel(\"probs2.xlsx\",index_col=0)"
   ]
  },
  {
   "cell_type": "code",
   "execution_count": 2,
   "id": "e3914dbb",
   "metadata": {},
   "outputs": [],
   "source": [
    "#Append length information to dataframe\n",
    "for_df = {} #Initiate temp dict\n",
    "for idx, i in enumerate(df['review_y']): #Loop through all stories\n",
    "        for_df[idx] = len(i)-6 #Count number of characters, subtract 6 (because of /nl) and append to temp dict\n",
    "df['length'] = for_df.values() #Copy temp dict data to DataFrame"
   ]
  },
  {
   "cell_type": "code",
   "execution_count": 31,
   "id": "2d21c6cb",
   "metadata": {},
   "outputs": [],
   "source": [
    "os.chdir(\"C:\\\\Users\\\\mlogt\\\\Dropbox\\\\Health Humanities\\\\Thesis\\\\Results SQ2\") #Change working directory\n",
    "\n",
    "for topic in range(1,7): #Loop through each topic\n",
    "    data = df[df['prob_'+str(topic)]>.5] #Subset reviews with high probability on each topic\n",
    "    data = data.sample(50) #Sample 50 stories on each topic\n",
    "    data.to_excel(\"Reviews topic_\"+str(topic)+\".xlsx\") #Export sample to excel"
   ]
  },
  {
   "cell_type": "code",
   "execution_count": 13,
   "id": "717f746f",
   "metadata": {},
   "outputs": [],
   "source": [
    "os.chdir(\"C:\\\\Users\\\\mlogt\\\\Dropbox\\\\Health Humanities\\\\Thesis\\\\Results SQ2\") #Change working directory\n",
    "data = df.query('prob_1 < 0.5  & prob_2 < 0.5 & prob_3 < 0.5 & prob_4 < 0.5 & prob_5 < 0.5 & prob_6 < 0.5') #Subset all stories not sign belonging to any story\n",
    "data = data.sample(50) #Sample 50 stories on each topic\n",
    "data.to_excel(\"Reviews topic_remainder.xlsx\") #Export sample to excel"
   ]
  },
  {
   "cell_type": "code",
   "execution_count": 23,
   "id": "3c841e4b",
   "metadata": {},
   "outputs": [
    {
     "name": "stdout",
     "output_type": "stream",
     "text": [
      "Average length remaining reviews: 419.68\n",
      "Average rating remaining reviews: 8.156\n",
      "\n",
      "Average length remaining reviews: 218.87951151478043\n",
      "Average rating remaining reviews: 8.206529577848023\n"
     ]
    }
   ],
   "source": [
    "#Average length and rating remaining reviews\n",
    "print(\"Average length remaining reviews:\",np.mean(data['length'])) #Print average length remaining reviews\n",
    "print(\"Average rating remaining reviews:\",np.mean(data['avg_rating'])) #Print average rating remaining reviews\n",
    "print()\n",
    "print(\"Average length remaining reviews:\",np.mean(df['length'])) #Print average length remaining reviews\n",
    "print(\"Average rating remaining reviews:\",np.mean(df['avg_rating'])) #Print average rating remaining reviews"
   ]
  }
 ],
 "metadata": {
  "kernelspec": {
   "display_name": "Python 3",
   "language": "python",
   "name": "python3"
  },
  "language_info": {
   "codemirror_mode": {
    "name": "ipython",
    "version": 3
   },
   "file_extension": ".py",
   "mimetype": "text/x-python",
   "name": "python",
   "nbconvert_exporter": "python",
   "pygments_lexer": "ipython3",
   "version": "3.8.8"
  }
 },
 "nbformat": 4,
 "nbformat_minor": 5
}
